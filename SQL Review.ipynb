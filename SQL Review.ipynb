{
 "cells": [
  {
   "cell_type": "markdown",
   "metadata": {},
   "source": [
    "## SQL Review\n",
    "\n",
    "SQL is what we use to get data from databases. Specifically, SQL is the global standard language for queries to databases. In databases, information is stored in many tables which all have their own unique column organization. \n",
    "\n",
    "Let's use data taken by a particular bikeshare company about how its bikes are used. It consists of four tables: stations, status, trips, weather. Let's say we wanted to get a list of the station ids."
   ]
  },
  {
   "cell_type": "markdown",
   "metadata": {},
   "source": [
    "Go into the data set and summarize it. "
   ]
  },
  {
   "cell_type": "raw",
   "metadata": {},
   "source": [
    "SELECT\n",
    "    station_id\n",
    "FROM\n",
    "    stations"
   ]
  },
  {
   "cell_type": "markdown",
   "metadata": {},
   "source": [
    "|  | station_id |\n",
    "|---|--------|\n",
    "| 1 | 2 | \n",
    "| 2 | 3 | \n",
    "\n"
   ]
  },
  {
   "cell_type": "markdown",
   "metadata": {},
   "source": [
    "Of course the result of the query in a real dataset would give us a much longer table. \n",
    "\n",
    "All functional SQL queries have a SELECT and a FROM clauses, but many additional clauses and keywords may be used to create more sophisticated and specific queries. Let’s review some of the more widely used clauses now. We'll start with SELECT and FROM and work into the more complex clauses.\n",
    "\n",
    "### SELECT\n",
    "The SELECT clause determines which columns to fetch and display as a result of the query. Multiple columns can be called at a time and columns can also be renamed for the query results. It is important to note that aggregate functions such as sum() or count() can also be performed on an entire column as it is called.\n",
    "\n",
    "### FROM\n",
    "The FROM clause determines from which table the query is pulling data. You can only call one table at a time with FROM. When calling a table you may also rename it for the purposes of the query only. This is useful when working with tables with long names and performing joins."
   ]
  },
  {
   "cell_type": "markdown",
   "metadata": {},
   "source": [
    "### WHERE\n",
    "The WHERE clause puts conditions on which values from the data the query will pull. If you only wanted to get rows which had values greater than a certain number or whose values were equal a certain string. \n",
    "\n",
    "Let's say we want to see all the bike trips leaving out of a particular station, let's say Broadway Street at Battery Street"
   ]
  },
  {
   "cell_type": "raw",
   "metadata": {},
   "source": [
    "SELECT\n",
    "    trip_id,\n",
    "    start_station\n",
    "FROM\n",
    "    trips\n",
    "WHERE\n",
    "    city = 'Broadway St at Battery St'"
   ]
  },
  {
   "cell_type": "markdown",
   "metadata": {},
   "source": [
    "|  | trip_id | start_station |\n",
    "|--|--|--|\n",
    "| 1 | 913500 | Broadway St at Battery St |\n",
    "| 2 | 913518 | Broadway St at Battery St |"
   ]
  },
  {
   "cell_type": "markdown",
   "metadata": {},
   "source": [
    "#### GROUP BY\n",
    "The GROUP BY clause groups the data based on the column(s) you call with it. It is key when calling aggreate functions and together they allow you answer more overarching questions about your data set. \n",
    "\n",
    "Let's say want to know how many bikes come into each station. The count function counts up all the rows and then the group function combines the row counts by end station."
   ]
  },
  {
   "cell_type": "raw",
   "metadata": {},
   "source": [
    "SELECT\n",
    "    end_station,\n",
    "    COUNT(*) trip_count\n",
    "FROM\n",
    "    trips\n",
    "GROUP BY end_station"
   ]
  },
  {
   "cell_type": "markdown",
   "metadata": {},
   "source": [
    "| station | trip_count |\n",
    "|--------|---------|\n",
    "| 1 | 2nd at Folsom | 4275 |\n",
    "| 2 | 2nd at South Park | 7052 |"
   ]
  },
  {
   "cell_type": "markdown",
   "metadata": {},
   "source": [
    "### ORDER BY\n",
    "The ORDER BY clause sorts the result table by whichever column you specify. The default order is ascending.\n",
    "\n",
    "Let's re do our previous example, this time ordering our results by the event_count from highest to lowest."
   ]
  },
  {
   "cell_type": "raw",
   "metadata": {},
   "source": [
    "SELECT\n",
    "    Day,\n",
    "    COUNT(*) event_count\n",
    "FROM\n",
    "    arrivals\n",
    "GROUP BY \n",
    "    day\n",
    "ORDER BY \n",
    "    event_count DESC"
   ]
  },
  {
   "cell_type": "markdown",
   "metadata": {},
   "source": [
    "| name | dockcount |\n",
    "|--------|---------|\n",
    "| Cyril Magnin St at Ellis St | 35 |\n",
    "| 5th St at Folsom St | 31 |\n",
    "| 2nd at Townsend | 27 |"
   ]
  },
  {
   "cell_type": "markdown",
   "metadata": {},
   "source": [
    "### JOIN\n",
    "As very useful tool in SQL, JOIN is more than just a clause, but an entire method. There are many times when you will only be able to answr a question using information that exists across two different tables in your dataset. These situations are solved with the join. There are many types of joins, but all of them focus on combining 2 tables into 1 (or more with intermediary tables). \n",
    "\n",
    "Let's say we want to get a query for a list of station id and number of trips. Well, the problem is trips and station id are on 2 totally different tables. To get them to interact with each other, we need to use a join command."
   ]
  },
  {
   "cell_type": "raw",
   "metadata": {},
   "source": [
    "SELECT\n",
    "\ts.city,\n",
    "\ts.name,\n",
    "\tt.trip_id\n",
    "FROM\n",
    "\tstations s\n",
    "JOIN\n",
    "\ttrips t\n",
    "ON\n",
    "\ts.name = t.start_station"
   ]
  },
  {
   "cell_type": "markdown",
   "metadata": {},
   "source": [
    "| station_id | name | number_of_trips |\n",
    "|------|------|------|\n",
    "| 70 | San Francisco Caltrain (Townsend at 4th) | 23591 |\n",
    "| 69 | San Francisco Caltrain 2 (330 Townsend) | 22358 |\n",
    "| 50 | Harry Bridges Plaza (Ferry Building) | 16128 |"
   ]
  },
  {
   "cell_type": "markdown",
   "metadata": {},
   "source": [
    "Usually both tabled are fused along just one column on a certain condition, like being equal to each other. How they are fused along that column determines the type of join. When discussing these joins, lets assuming the condition for combining the rows is that they are equal, as if most often the case.\n",
    "\n",
    "#### Inner Join \n",
    "This type of join is where the fused tabled only has rows from its parents who had equal values in their respective columns. You can think of this as only taking the relavant rows from each table, and stitching them togehter. This is by far the most frequently used type of join, and is the type we used in our first example.\n",
    "\n",
    "#### Left Join (Left Outer Join)\n",
    "This type of join is where the entire first table is retrieved, then those rows who have matching values in their columns have second table rows with have matching column values added onto them. So this is like taking the whole first table and adding on only matching rows from the second table. Gives a lot of data, and it is recommended to be heavily filtered with clauses like WHERE first. \n",
    "\n",
    "#### Right Join (Right Outer Join)\n",
    "This type of join is very much a reverse of the left join. In this join, the entire right table is taken, and the rows with matching column values from the first data set are added onto it.\n",
    "\n",
    "#### Full Join (Full Outer Join)\n",
    "This type of join takes data from the entirety of both tables and combines them all together. This can potentially be very messy and should be used with caution."
   ]
  },
  {
   "cell_type": "markdown",
   "metadata": {},
   "source": [
    "### CTEs\n",
    "Common table expressions, or CTEs, are long clauses that have the complexity of an entire query in themselves. These 'pseudo-query-clauses' let us created intermediary tables for when we need to combine multiple clauses or aggregate functions. Becuase of the order of certain clauses, it is impossible to set-up certain query situations without CTEs.\n",
    "\n",
    "CTEs have the basic format: __WITH__ _name_ __as__ (_psuedo-query_)\n",
    "\n",
    "For instance, if we wanted to call case and make a holding table that counts the numbers of trips, we would write this:"
   ]
  },
  {
   "cell_type": "raw",
   "metadata": {},
   "source": [
    "WITH trip_count AS (\n",
    "SELECT\n",
    "\tstart_station,\n",
    "\tcount(*) number_of_trips\n",
    "FROM\n",
    "\ttrips\n",
    "GROUP BY start_station\n",
    ")"
   ]
  },
  {
   "cell_type": "markdown",
   "metadata": {},
   "source": [
    "### CASE\n",
    "While not entirely a clause in and of themselves, cae statements are extremely important and allow to categorize data in new ways. Case statements allow you to set up conditions for a particular column and then take action based on each row's value. \n",
    "\n",
    "CASE statements follow the format: __CASE WHEN__ _condition_ __THEN__ _value_ __ELSE__ _value_ __END__ . \n",
    "\n",
    "For instance, let's say I wanted to label stations large or small based on how many trips they have. Stations with 1000 or less trips will be 'small' and stations with more with be 'large'. We would need to a Case Statement. Here is where CTE's come in to help. We don't have trip count stored as a value, but we can create it a hold in it a CTE."
   ]
  },
  {
   "cell_type": "raw",
   "metadata": {},
   "source": [
    "WITH trip_count AS (\n",
    "SELECT\n",
    "\tstart_station,\n",
    "\tcount(*) number_of_trips\n",
    "FROM\n",
    "\ttrips\n",
    "GROUP BY start_station\n",
    ")\n",
    "SELECT\n",
    "\tstart_station,\n",
    "\t(CASE WHEN number_of_trips > 1000 THEN 'Large' ELSE 'Small' END) Size\n",
    "FROM\n",
    "\ttrip_count"
   ]
  },
  {
   "cell_type": "markdown",
   "metadata": {},
   "source": [
    "| start_station | Size |\n",
    "|------|------|\n",
    "| 2nd at Folsom | Large |\n",
    "| 2nd at South Park | Large |\n",
    "| 2nd at Townsend | Large |\n",
    "| 5th S at E. San Salvador St | Small |"
   ]
  },
  {
   "cell_type": "code",
   "execution_count": null,
   "metadata": {},
   "outputs": [],
   "source": []
  }
 ],
 "metadata": {
  "kernelspec": {
   "display_name": "Python 2",
   "language": "python",
   "name": "python2"
  },
  "language_info": {
   "codemirror_mode": {
    "name": "ipython",
    "version": 2
   },
   "file_extension": ".py",
   "mimetype": "text/x-python",
   "name": "python",
   "nbconvert_exporter": "python",
   "pygments_lexer": "ipython2",
   "version": "2.7.15rc1"
  }
 },
 "nbformat": 4,
 "nbformat_minor": 2
}
